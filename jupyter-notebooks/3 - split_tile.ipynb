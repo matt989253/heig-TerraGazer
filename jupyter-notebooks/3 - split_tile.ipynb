{
 "cells": [
  {
   "cell_type": "markdown",
   "id": "b6f57614-2c54-4ef1-8398-437993227cb1",
   "metadata": {},
   "source": [
    "# Split Sentinel-2 data to tiles"
   ]
  },
  {
   "cell_type": "code",
   "execution_count": 1,
   "id": "e5b88e5d-5d26-4e71-acba-21970cf36462",
   "metadata": {},
   "outputs": [],
   "source": [
    "# Imports\n",
    "import rasterio\n",
    "from rasterio.plot import show\n",
    "from rasterio.windows import Window, bounds, from_bounds \n",
    "from rasterio.transform import rowcol, xy\n",
    "\n",
    "from sentinelhub import BBox, CRS\n",
    "from pyproj import Transformer\n",
    "from shapely.geometry import Polygon\n",
    "\n",
    "import h5py\n",
    "import numpy as np\n",
    "\n",
    "import time\n",
    "import json\n",
    "import glob\n",
    "import os\n",
    "from tqdm.notebook import tqdm"
   ]
  },
  {
   "cell_type": "markdown",
   "id": "2ccb8e51-315a-46f1-8953-014023920609",
   "metadata": {},
   "source": [
    "# Export a window of Landsat-2 data"
   ]
  },
  {
   "cell_type": "code",
   "execution_count": 2,
   "id": "cfd743f9-ee68-4c20-a40b-db59c2c53499",
   "metadata": {},
   "outputs": [
    {
     "name": "stdout",
     "output_type": "stream",
     "text": [
      "data\\sentinel2\\*\\R10m\\transformed_tci.jp2\n"
     ]
    }
   ],
   "source": [
    "# File and folder paths\n",
    "dirpath = r\"data\\sentinel2\"\n",
    "search_criteria = \"*\\\\R10m\\\\transformed_tci.jp2\"\n",
    "q = os.path.join(dirpath, search_criteria)\n",
    "print(q)"
   ]
  },
  {
   "cell_type": "code",
   "execution_count": 3,
   "id": "04e3aa7b-fa14-41c2-9082-6bda45cbe605",
   "metadata": {},
   "outputs": [
    {
     "data": {
      "text/plain": [
       "['data\\\\sentinel2\\\\31PFP,2021-06-14,0\\\\R10m\\\\transformed_tci.jp2',\n",
       " 'data\\\\sentinel2\\\\31PFQ,2021-06-14,0\\\\R10m\\\\transformed_tci.jp2',\n",
       " 'data\\\\sentinel2\\\\31PFR,2021-06-14,0\\\\R10m\\\\transformed_tci.jp2',\n",
       " 'data\\\\sentinel2\\\\31PGP,2021-06-14,0\\\\R10m\\\\transformed_tci.jp2',\n",
       " 'data\\\\sentinel2\\\\31PGQ,2021-06-14,0\\\\R10m\\\\transformed_tci.jp2',\n",
       " 'data\\\\sentinel2\\\\31PGR,2021-06-14,0\\\\R10m\\\\transformed_tci.jp2',\n",
       " 'data\\\\sentinel2\\\\31PHP,2021-06-14,0\\\\R10m\\\\transformed_tci.jp2',\n",
       " 'data\\\\sentinel2\\\\31PHQ,2021-06-14,0\\\\R10m\\\\transformed_tci.jp2',\n",
       " 'data\\\\sentinel2\\\\31PHR,2021-06-14,0\\\\R10m\\\\transformed_tci.jp2']"
      ]
     },
     "execution_count": 3,
     "metadata": {},
     "output_type": "execute_result"
    }
   ],
   "source": [
    "filenames = glob.glob(q)\n",
    "filenames"
   ]
  },
  {
   "cell_type": "code",
   "execution_count": 4,
   "id": "7fd59a80-80a5-47c6-b3bf-9f1e2b1e3f65",
   "metadata": {},
   "outputs": [
    {
     "data": {
      "text/plain": [
       "[<open DatasetReader name='data\\sentinel2\\31PFP,2021-06-14,0\\R10m\\transformed_tci.jp2' mode='r'>,\n",
       " <open DatasetReader name='data\\sentinel2\\31PFQ,2021-06-14,0\\R10m\\transformed_tci.jp2' mode='r'>,\n",
       " <open DatasetReader name='data\\sentinel2\\31PFR,2021-06-14,0\\R10m\\transformed_tci.jp2' mode='r'>,\n",
       " <open DatasetReader name='data\\sentinel2\\31PGP,2021-06-14,0\\R10m\\transformed_tci.jp2' mode='r'>,\n",
       " <open DatasetReader name='data\\sentinel2\\31PGQ,2021-06-14,0\\R10m\\transformed_tci.jp2' mode='r'>,\n",
       " <open DatasetReader name='data\\sentinel2\\31PGR,2021-06-14,0\\R10m\\transformed_tci.jp2' mode='r'>,\n",
       " <open DatasetReader name='data\\sentinel2\\31PHP,2021-06-14,0\\R10m\\transformed_tci.jp2' mode='r'>,\n",
       " <open DatasetReader name='data\\sentinel2\\31PHQ,2021-06-14,0\\R10m\\transformed_tci.jp2' mode='r'>,\n",
       " <open DatasetReader name='data\\sentinel2\\31PHR,2021-06-14,0\\R10m\\transformed_tci.jp2' mode='r'>]"
      ]
     },
     "execution_count": 4,
     "metadata": {},
     "output_type": "execute_result"
    }
   ],
   "source": [
    "files = []\n",
    "for filename in filenames:\n",
    "    file = rasterio.open(filename)\n",
    "    files.append(file)\n",
    "    \n",
    "files"
   ]
  },
  {
   "cell_type": "code",
   "execution_count": 5,
   "id": "272c4d98-b052-40db-b822-987c758af96f",
   "metadata": {},
   "outputs": [],
   "source": [
    "# given a window and some bounds (left, bottom, right, top)\n",
    "# checks if the window in contained inside the bounds\n",
    "def window_in_bounds(window, bounds):\n",
    "    w_left, w_bottom, w_right, w_top = window\n",
    "    b_left, b_bottom, b_right, b_top = bounds\n",
    "    \n",
    "    in_horizontal = w_left > b_left and w_right < b_right\n",
    "    in_vertical = w_bottom > b_bottom and w_top < b_top\n",
    "    \n",
    "    return in_horizontal and in_vertical\n",
    "\n",
    "# Given the metadata file (tileInfo.json) from a landsat-2 raster, \n",
    "# computer the wgs84 aligned inner bounds contained inside it\n",
    "def inner_bounds_from_metadata(metadata):\n",
    "    data = json.load(open(metadata))    \n",
    "\n",
    "    crs_name = data[\"tileGeometry\"][\"crs\"][\"properties\"][\"name\"].split(':')[-3]\n",
    "    crs_number = data[\"tileGeometry\"][\"crs\"][\"properties\"][\"name\"].split(':')[-1]\n",
    "\n",
    "    coordinates = data[\"tileGeometry\"][\"coordinates\"][0]\n",
    "    transformer = Transformer.from_crs(f'{crs_name}:{crs_number}', \"epsg:4326\")\n",
    "    coordinates = [list(transformer.transform(point[0], point[1])) for point in coordinates]\n",
    "    coordinates = [[point[1], point[0]] for point in coordinates]\n",
    "\n",
    "    polygon = Polygon(coordinates)\n",
    "    \n",
    "    x, y = polygon.exterior.coords.xy\n",
    "    # sort coords and remove duplicate\n",
    "    x = sorted(x[:-1])\n",
    "    y = sorted(y[:-1])\n",
    "    \n",
    "    min_x, max_x = x[1], x[2]\n",
    "    min_y, max_y = y[1], y[2]\n",
    "    \n",
    "    return (min_x, min_y, max_x, max_y)"
   ]
  },
  {
   "cell_type": "code",
   "execution_count": 6,
   "id": "7bc42c81-ffad-4a7e-9889-4cba3b469ac4",
   "metadata": {},
   "outputs": [],
   "source": [
    "# Given a ls2 file, a wgs84 coordinate, a window size in pixels and a radiance value (optional),\n",
    "# exports small images centered on the coordinate of window_size containing the \n",
    "# coordinate and radiance value in the filename\n",
    "def export_split(ls2_file, center_of_window, window_size, px=None, py=None, radiance=None):\n",
    "    filename_splits = ls2_file.name.split('\\\\')\n",
    "\n",
    "    input_filename = ls2_file.name     \n",
    "    metadata_filename = ('\\\\').join(filename_splits[0:3]) + '\\\\tileInfo.json'\n",
    "\n",
    "    file_transform = ls2_file.transform\n",
    "\n",
    "    # center of window (pixels)\n",
    "    x, y = rowcol(file_transform, center_of_window[0], center_of_window[1], round)\n",
    "\n",
    "    # bound limits (pixels)\n",
    "    left_px, bottom_py = x + window_size/2, y - window_size/2\n",
    "    right_px, top_py =   x - window_size/2, y + window_size/2\n",
    "    # bound limits (wgs84)\n",
    "    left, bottom = xy(file_transform, left_px, bottom_py, offset='center')\n",
    "    right, top = xy(file_transform, right_px, top_py, offset='center')    \n",
    "    # bounds (wgs84)\n",
    "    calc_bounds = (left, bottom, right, top)\n",
    "    inner_file_bounds = inner_bounds_from_metadata(metadata_filename)\n",
    "\n",
    "    if window_in_bounds(calc_bounds, inner_file_bounds):\n",
    "        # Create a Window and calculate the transform from the source dataset\n",
    "        window = from_bounds(left, bottom, right, top, file_transform)\n",
    "        window_transform = ls2_file.window_transform(window)\n",
    "\n",
    "        # Create a new cropped raster to write to\n",
    "        profile = ls2_file.profile\n",
    "        profile.update({\n",
    "            'driver': 'PNG',\n",
    "            'height': window_size,\n",
    "            'width': window_size,\n",
    "            'transform': window_transform})\n",
    "\n",
    "        output_filename = ('\\\\').join(filename_splits[0:2]) + f'\\\\splits\\\\sokoto\\\\{center_of_window}_{px}x{py}_{radiance}.png'\n",
    "        with rasterio.open(output_filename, 'w', **profile) as dst:\n",
    "            # Read the data from the window and write it to the output image\n",
    "            dst.write(ls2_file.read(window=window))\n",
    "        return True # Successfully exported\n",
    "            \n",
    "    return False # Not in window"
   ]
  },
  {
   "cell_type": "markdown",
   "id": "ce3d72e9-6fac-4804-814a-599f4261b9ec",
   "metadata": {},
   "source": [
    "# Open blackmarble file and get infos"
   ]
  },
  {
   "cell_type": "code",
   "execution_count": 7,
   "id": "669bbc3d-5c7e-48f5-a754-ba04509a6673",
   "metadata": {},
   "outputs": [],
   "source": [
    "# Geo stuff\n",
    "def tileId_to_geo(tile_id):   \n",
    "    horizontalId = int(tile_id[1:3])\n",
    "    verticalId = int(tile_id[4:6])\n",
    "    \n",
    "    lat = (horizontalId - 18) * 10\n",
    "    lon = -(verticalId - 9) * 10\n",
    "    \n",
    "    return (lat, lon)\n",
    "\n",
    "# Origin (px and geo): top left\n",
    "def px_to_geo_h5(px, py, x_width, y_height, tile_geo_width, tile_geo_height, geo_tile):\n",
    "    ratio_px = px / x_width\n",
    "    ratio_py = py / y_height\n",
    "    \n",
    "    geo_dx = ratio_px * tile_geo_width\n",
    "    geo_dy = ratio_py * tile_geo_height\n",
    "    \n",
    "    return (geo_tile[0] + geo_dx, geo_tile[1] - geo_dy)\n",
    "\n",
    "def geo_to_px_h5(geo_target, geo_tile, x_width, y_height, tile_geo_width, tile_geo_height):        \n",
    "    diff_lat  = geo_target[0] - geo_tile[0] # lat of tile will always be smaller\n",
    "    diff_long = geo_tile[1] - geo_target[1] # long of tile always larger\n",
    "    \n",
    "    if not (diff_lat >= 0 and diff_lat <= tile_geo_height and diff_long >= 0 and diff_long <= tile_geo_width):\n",
    "        raise Exception(f'Target geo point not in provided tile: {geo_target} not in {geo_tile}, {geo_tile[0] + tile_geo_width}, {geo_tile[1] - tile_geo_height} ({tile_geo_width}°x{tile_geo_height}°)')\n",
    "    \n",
    "    ratio_px = diff_lat / tile_geo_height\n",
    "    ratio_py = diff_long / tile_geo_width\n",
    "    \n",
    "    return (int(ratio_px * x_width), int(ratio_py * y_height))"
   ]
  },
  {
   "cell_type": "code",
   "execution_count": 8,
   "id": "a5bbb421-3556-4c14-9682-4b034eb5cb6d",
   "metadata": {},
   "outputs": [],
   "source": [
    "# Blackmarble H5 File\n",
    "def geo_tl(h5file):\n",
    "    splits = h5file.split('.')\n",
    "    \n",
    "    tile_id = splits[2]\n",
    "    geo = tileId_to_geo(tile_id)                              \n",
    "    \n",
    "    return geo\n",
    "\n",
    "def export_data_h5(h5file):\n",
    "    name='DNB_At_Sensor_Radiance_500m'\n",
    "    path='/HDFEOS/GRIDS/VNP_Grid_DNB/Data Fields/'\n",
    "    data_dir='data/blackmarble/'\n",
    "    \n",
    "    with h5py.File(data_dir + h5file, 'r') as f:\n",
    "        data = np.array(f[path + name][:,:])\n",
    "        \n",
    "        return data"
   ]
  },
  {
   "cell_type": "markdown",
   "id": "78637068-af78-4a8b-81da-ca5c699e7cc4",
   "metadata": {},
   "source": [
    "# Traverse h5 file and for each pixel, export the corresponding Landsat-2 window (if it exists)"
   ]
  },
  {
   "cell_type": "code",
   "execution_count": 9,
   "id": "5770e8f8-5d9c-4c24-90d8-c90daca96c13",
   "metadata": {},
   "outputs": [],
   "source": [
    "# Time estimation:\n",
    "def time_estimation(xlim, ylim):\n",
    "    import datetime\n",
    "    xmin, xmax = xlim.start, xlim.stop\n",
    "    ymin, ymax = ylim.start, ylim.stop\n",
    "    time_per_pxl_file = 1866 / 59950 # Empirical value (1866s for 59950 pixels)\n",
    "    pxls = (xmax-xmin) * (ymax-ymin)\n",
    "    secs = time_per_pxl_file * pxls\n",
    "    time = datetime.timedelta(seconds=secs)\n",
    "    \n",
    "    print(f'Estimated {time}')"
   ]
  },
  {
   "cell_type": "code",
   "execution_count": 10,
   "id": "409b0f25-a46e-4650-9dde-09e162640f51",
   "metadata": {},
   "outputs": [
    {
     "name": "stdout",
     "output_type": "stream",
     "text": [
      "Nightlight file: Top Left=(0, 20), Bottom Right=(10, 10)\n",
      "\n",
      "<open DatasetReader name='data\\sentinel2\\31PFP,2021-06-14,0\\R10m\\transformed_tci.jp2' mode='r'>\n",
      "Degrees: Left: 3.9174820064733487, Bottom: 11.665122014929599, Right: 4.931722160292178, Top: 12.662956415002258\n",
      "Pixels: Left: 940, Bottom: 2000, Right: 1183, Top: 1760\n",
      "\n"
     ]
    },
    {
     "data": {
      "application/vnd.jupyter.widget-view+json": {
       "model_id": "a92ffc6d89c04d7399c113f9988e0eed",
       "version_major": 2,
       "version_minor": 0
      },
      "text/plain": [
       "  0%|          | 0/243 [00:00<?, ?it/s]"
      ]
     },
     "metadata": {},
     "output_type": "display_data"
    },
    {
     "name": "stdout",
     "output_type": "stream",
     "text": [
      "<open DatasetReader name='data\\sentinel2\\31PFQ,2021-06-14,0\\R10m\\transformed_tci.jp2' mode='r'>\n",
      "Degrees: Left: 3.920576320674262, Bottom: 12.56864310055385, Right: 4.938759661045392, Top: 13.566740327682364\n",
      "Pixels: Left: 940, Bottom: 1783, Right: 1185, Top: 1543\n",
      "\n"
     ]
    },
    {
     "data": {
      "application/vnd.jupyter.widget-view+json": {
       "model_id": "3de9c75034744bedb96cae9a6d627e33",
       "version_major": 2,
       "version_minor": 0
      },
      "text/plain": [
       "  0%|          | 0/245 [00:00<?, ?it/s]"
      ]
     },
     "metadata": {},
     "output_type": "display_data"
    },
    {
     "name": "stdout",
     "output_type": "stream",
     "text": [
      "<open DatasetReader name='data\\sentinel2\\31PFR,2021-06-14,0\\R10m\\transformed_tci.jp2' mode='r'>\n",
      "Degrees: Left: 3.9239228890652313, Bottom: 13.472508614812945, Right: 4.946380023392003, Top: 14.47100048082753\n",
      "Pixels: Left: 941, Bottom: 1566, Right: 1187, Top: 1326\n",
      "\n"
     ]
    },
    {
     "data": {
      "application/vnd.jupyter.widget-view+json": {
       "model_id": "9ee808e0e7cd445e9f4541aafa921d29",
       "version_major": 2,
       "version_minor": 0
      },
      "text/plain": [
       "  0%|          | 0/246 [00:00<?, ?it/s]"
      ]
     },
     "metadata": {},
     "output_type": "display_data"
    },
    {
     "name": "stdout",
     "output_type": "stream",
     "text": [
      "<open DatasetReader name='data\\sentinel2\\31PGP,2021-06-14,0\\R10m\\transformed_tci.jp2' mode='r'>\n",
      "Degrees: Left: 4.834350908431995, Bottom: 11.6575483326742, Right: 5.851471450537418, Top: 12.658181429130233\n",
      "Pixels: Left: 1160, Bottom: 2002, Right: 1404, Top: 1762\n",
      "\n"
     ]
    },
    {
     "data": {
      "application/vnd.jupyter.widget-view+json": {
       "model_id": "cbd27dea706d4ad9877799ff12a7228d",
       "version_major": 2,
       "version_minor": 0
      },
      "text/plain": [
       "  0%|          | 0/244 [00:00<?, ?it/s]"
      ]
     },
     "metadata": {},
     "output_type": "display_data"
    },
    {
     "name": "stdout",
     "output_type": "stream",
     "text": [
      "<open DatasetReader name='data\\sentinel2\\31PGQ,2021-06-14,0\\R10m\\transformed_tci.jp2' mode='r'>\n",
      "Degrees: Left: 4.840534283548733, Bottom: 12.560364852651748, Right: 5.861856042873078, Top: 13.561612388170916\n",
      "Pixels: Left: 1161, Bottom: 1785, Right: 1406, Top: 1545\n",
      "\n"
     ]
    },
    {
     "data": {
      "application/vnd.jupyter.widget-view+json": {
       "model_id": "eb6feae414264a2db75346183248bc5e",
       "version_major": 2,
       "version_minor": 0
      },
      "text/plain": [
       "  0%|          | 0/245 [00:00<?, ?it/s]"
      ]
     },
     "metadata": {},
     "output_type": "display_data"
    },
    {
     "name": "stdout",
     "output_type": "stream",
     "text": [
      "<open DatasetReader name='data\\sentinel2\\31PGR,2021-06-14,0\\R10m\\transformed_tci.jp2' mode='r'>\n",
      "Degrees: Left: 4.847221702589103, Bottom: 13.4637072343465, Right: 5.873073234162075, Top: 14.465516798997028\n",
      "Pixels: Left: 1163, Bottom: 1568, Right: 1409, Top: 1328\n",
      "\n"
     ]
    },
    {
     "data": {
      "application/vnd.jupyter.widget-view+json": {
       "model_id": "6ea73cf061f345e28d147941d8e151a1",
       "version_major": 2,
       "version_minor": 0
      },
      "text/plain": [
       "  0%|          | 0/246 [00:00<?, ?it/s]"
      ]
     },
     "metadata": {},
     "output_type": "display_data"
    },
    {
     "name": "stdout",
     "output_type": "stream",
     "text": [
      "<open DatasetReader name='data\\sentinel2\\31PHP,2021-06-14,0\\R10m\\transformed_tci.jp2' mode='r'>\n",
      "Degrees: Left: 5.751277915352266, Bottom: 11.647050318706016, Right: 6.770926390860055, Top: 12.650224959163648\n",
      "Pixels: Left: 1380, Bottom: 2004, Right: 1625, Top: 1763\n",
      "\n"
     ]
    },
    {
     "data": {
      "application/vnd.jupyter.widget-view+json": {
       "model_id": "79799cd16b3c4a4d8097801fca4541dc",
       "version_major": 2,
       "version_minor": 0
      },
      "text/plain": [
       "  0%|          | 0/245 [00:00<?, ?it/s]"
      ]
     },
     "metadata": {},
     "output_type": "display_data"
    },
    {
     "name": "stdout",
     "output_type": "stream",
     "text": [
      "<open DatasetReader name='data\\sentinel2\\31PHQ,2021-06-14,0\\R10m\\transformed_tci.jp2' mode='r'>\n",
      "Degrees: Left: 5.7605441816064, Bottom: 12.54901992110008, Right: 6.784740513646412, Top: 13.553067829659511\n",
      "Pixels: Left: 1382, Bottom: 1788, Right: 1628, Top: 1547\n",
      "\n"
     ]
    },
    {
     "data": {
      "application/vnd.jupyter.widget-view+json": {
       "model_id": "7e95e8a003d247a6a421ef0435f719bf",
       "version_major": 2,
       "version_minor": 0
      },
      "text/plain": [
       "  0%|          | 0/246 [00:00<?, ?it/s]"
      ]
     },
     "metadata": {},
     "output_type": "display_data"
    },
    {
     "name": "stdout",
     "output_type": "stream",
     "text": [
      "<open DatasetReader name='data\\sentinel2\\31PHR,2021-06-14,0\\R10m\\transformed_tci.jp2' mode='r'>\n",
      "Degrees: Left: 5.7705657063582825, Bottom: 13.451512466410124, Right: 6.799545177287361, Top: 14.456379512314768\n",
      "Pixels: Left: 1384, Bottom: 1571, Right: 1631, Top: 1330\n",
      "\n"
     ]
    },
    {
     "data": {
      "application/vnd.jupyter.widget-view+json": {
       "model_id": "5f5c5fbb80744e07b38bf16f2875a713",
       "version_major": 2,
       "version_minor": 0
      },
      "text/plain": [
       "  0%|          | 0/247 [00:00<?, ?it/s]"
      ]
     },
     "metadata": {},
     "output_type": "display_data"
    }
   ],
   "source": [
    "h5file = 'VNP46A1.A2021165.h18v07.001.2021166080518.h5'\n",
    "\n",
    "tile_width_deg = 10\n",
    "split_width_px = 50\n",
    "\n",
    "data = export_data_h5(h5file)\n",
    "exported_bitmap = np.zeros((2400, 2400), dtype=bool)\n",
    "\n",
    "geo_tile = geo_tl(h5file)\n",
    "\n",
    "print(f'Nightlight file: Top Left={geo_tile}, Bottom Right=({geo_tile[0]+tile_width_deg}, {geo_tile[1]-tile_width_deg})')\n",
    "print()\n",
    "\n",
    "for file in files:\n",
    "    print(file)\n",
    "    left, bottom, right, top = file.bounds[0], file.bounds[1], file.bounds[2], file.bounds[3]\n",
    "    \n",
    "    print(f'Degrees: Left: {left}, Bottom: {bottom}, Right: {right}, Top: {top}')\n",
    "    \n",
    "    left_px, bottom_px = geo_to_px_h5((left, bottom), geo_tile, 2400, 2400, tile_width_deg, tile_width_deg)\n",
    "    right_px, top_px = geo_to_px_h5((right, top), geo_tile, 2400, 2400, tile_width_deg, tile_width_deg)\n",
    "    \n",
    "    print(f'Pixels: Left: {left_px}, Bottom: {bottom_px}, Right: {right_px}, Top: {top_px}')\n",
    "    print()\n",
    "    \n",
    "    xlim = range(left_px, right_px)\n",
    "    ylim = range(top_px, bottom_px)\n",
    "    \n",
    "    count_exp = 0\n",
    "    count_oob = 0\n",
    "\n",
    "    for px in tqdm(xlim):\n",
    "        for py in ylim:\n",
    "            if (exported_bitmap[px, py] == True):\n",
    "                continue\n",
    "            # for some reason, x and y coordinates are flipped in data\n",
    "            radiance = data[py, px]\n",
    "            lat, lon = px_to_geo_h5(px, py, data.shape[0], data.shape[1], tile_width_deg, tile_width_deg, geo_tile)        \n",
    "            exported = export_split(file, center_of_window = (lat, lon), window_size = split_width_px, px=px, py=py, radiance = radiance)\n",
    "            \n",
    "            if exported:\n",
    "                exported_bitmap[px, py] = 1"
   ]
  }
 ],
 "metadata": {
  "kernelspec": {
   "display_name": "Python 3",
   "language": "python",
   "name": "python3"
  },
  "language_info": {
   "codemirror_mode": {
    "name": "ipython",
    "version": 3
   },
   "file_extension": ".py",
   "mimetype": "text/x-python",
   "name": "python",
   "nbconvert_exporter": "python",
   "pygments_lexer": "ipython3",
   "version": "3.8.5"
  },
  "toc-showcode": true,
  "toc-showmarkdowntxt": false,
  "toc-showtags": false
 },
 "nbformat": 4,
 "nbformat_minor": 5
}
