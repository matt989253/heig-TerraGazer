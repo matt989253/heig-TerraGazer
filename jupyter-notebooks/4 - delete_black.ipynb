{
 "cells": [
  {
   "cell_type": "markdown",
   "id": "eastern-blink",
   "metadata": {},
   "source": [
    "# Deleting tiles containing parts of no data"
   ]
  },
  {
   "cell_type": "code",
   "execution_count": 1,
   "id": "silver-library",
   "metadata": {
    "tags": []
   },
   "outputs": [],
   "source": [
    "# Imports and setup\n",
    "# OS File manipulation\n",
    "import os\n",
    "import glob\n",
    "\n",
    "# Math\n",
    "import numpy as np\n",
    "import math\n",
    "\n",
    "# Image processing\n",
    "import cv2\n",
    "\n",
    "# Programming tools\n",
    "from tqdm.notebook import tqdm"
   ]
  },
  {
   "cell_type": "markdown",
   "id": "06baf0bb-2376-4e13-8117-f4f27b2f09be",
   "metadata": {},
   "source": [
    "# Data Preparation"
   ]
  },
  {
   "cell_type": "code",
   "execution_count": 34,
   "id": "sticky-algorithm",
   "metadata": {
    "tags": []
   },
   "outputs": [
    {
     "data": {
      "application/vnd.jupyter.widget-view+json": {
       "model_id": "546c1d0e1baf41e6b7cd5882584b896a",
       "version_major": 2,
       "version_minor": 0
      },
      "text/plain": [
       "  0%|          | 0/455977 [00:00<?, ?it/s]"
      ]
     },
     "metadata": {},
     "output_type": "display_data"
    },
    {
     "name": "stdout",
     "output_type": "stream",
     "text": [
      "Removed 38585/455977 bad images\n"
     ]
    }
   ],
   "source": [
    "data_path = os.path.join(\"data\\\\sentinel2\\\\splits\\\\sokoto\", '*.png')\n",
    "files = glob.glob(data_path)\n",
    "\n",
    "black = np.array([0,0,0])\n",
    "dark = np.array([1,1,1])\n",
    "\n",
    "count = 0\n",
    "\n",
    "for filename in tqdm(files):\n",
    "    # Read image\n",
    "    img = cv2.imread(filename, cv2.IMREAD_COLOR)\n",
    "    mask = cv2.inRange(img, black, dark)\n",
    "    percent = (mask > 0).mean()\n",
    "    \n",
    "    if percent > 0.005: # 0.5% = 13 black pixels\n",
    "        os.remove(filename)\n",
    "        count += 1\n",
    "        \n",
    "print(f'Removed {count}/{len(files)} bad images')"
   ]
  },
  {
   "cell_type": "code",
   "execution_count": null,
   "id": "cad8d97f-038b-4585-8b00-d3921a249e8a",
   "metadata": {},
   "outputs": [],
   "source": []
  }
 ],
 "metadata": {
  "kernelspec": {
   "display_name": "Python 3",
   "language": "python",
   "name": "python3"
  },
  "language_info": {
   "codemirror_mode": {
    "name": "ipython",
    "version": 3
   },
   "file_extension": ".py",
   "mimetype": "text/x-python",
   "name": "python",
   "nbconvert_exporter": "python",
   "pygments_lexer": "ipython3",
   "version": "3.8.5"
  },
  "toc-showmarkdowntxt": true
 },
 "nbformat": 4,
 "nbformat_minor": 5
}
