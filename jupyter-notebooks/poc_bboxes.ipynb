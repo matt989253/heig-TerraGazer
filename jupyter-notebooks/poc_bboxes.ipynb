{
 "cells": [
  {
   "cell_type": "markdown",
   "id": "e5eada12-5911-498f-8508-b4dbe9180993",
   "metadata": {},
   "source": [
    "# Proof of concept: Using BBoxes"
   ]
  },
  {
   "cell_type": "code",
   "execution_count": 1,
   "id": "c92d1ba8-a1bc-47ca-a495-ece3f41fc1b2",
   "metadata": {},
   "outputs": [],
   "source": [
    "import itertools\n",
    "\n",
    "import numpy as np\n",
    "from shapely.geometry import shape, Polygon, MultiPolygon, MultiLineString\n",
    "from sentinelhub import BBoxSplitter, OsmSplitter, TileSplitter, CustomGridSplitter, UtmZoneSplitter, UtmGridSplitter\n",
    "from sentinelhub import WebFeatureService, BBox, Geometry, CRS, DataCollection, SHConfig"
   ]
  },
  {
   "cell_type": "code",
   "execution_count": 2,
   "id": "e0d828de-09bf-45e9-aef6-0e1441744633",
   "metadata": {},
   "outputs": [],
   "source": [
    "import matplotlib.pyplot as plt\n",
    "from matplotlib.patches import Polygon as plt_polygon\n",
    "from pyproj import Transformer\n",
    "import json"
   ]
  },
  {
   "cell_type": "code",
   "execution_count": 3,
   "id": "74305ffe-68c5-4317-b3fd-7a2492c2d022",
   "metadata": {},
   "outputs": [],
   "source": [
    "def show_polygon(polygon):\n",
    "    plt.plot(*polygon.exterior.xy)\n",
    "\n",
    "def show_bbox(bbox):\n",
    "    show_polygon(bbox.geometry)\n",
    "    \n",
    "def show_partition(bbox_part):\n",
    "    for lst in partition:\n",
    "        for bbox in lst:\n",
    "            show_bbox(bbox)"
   ]
  },
  {
   "cell_type": "code",
   "execution_count": 6,
   "id": "0e071b9d-6082-4b44-8b9e-dcaa6b060936",
   "metadata": {},
   "outputs": [
    {
     "name": "stdout",
     "output_type": "stream",
     "text": [
      "path\n",
      "timestamp\n",
      "utmZone\n",
      "latitudeBand\n",
      "gridSquare\n",
      "datastrip\n",
      "tileGeometry\n",
      "tileDataGeometry\n",
      "tileOrigin\n",
      "dataCoveragePercentage\n",
      "cloudyPixelPercentage\n",
      "productName\n",
      "productPath\n"
     ]
    }
   ],
   "source": [
    "jsonFile = \"./data/sentinel2/31TGM,2021-02-23,0/tileInfo.json\"\n",
    "data = json.load(open(jsonFile))\n",
    "\n",
    "for k in data.keys():\n",
    "    print(k)"
   ]
  },
  {
   "cell_type": "code",
   "execution_count": 7,
   "id": "72fd663c-e10c-4932-9e4c-a44e07d0094a",
   "metadata": {},
   "outputs": [
    {
     "name": "stdout",
     "output_type": "stream",
     "text": [
      "urn:ogc:def:crs:EPSG:8.8.1:32631\n",
      "CRS Name: EPSG\n",
      "CRS Number: 32631\n",
      "Coordinates (EPSG:32631): [[699960.0, 5200020.0], [809760.0, 5200020.0], [809760.0, 5090220.0], [699960.0, 5090220.0], [699960.0, 5200020.0]]\n",
      "Coordinates  (EPSG:4326): [[5.626485355267178, 46.92357305783375], [7.065657132764588, 46.881459661163504], [6.9930021665949145, 45.89573525146742], [5.5794594555435, 45.936430872600674], [5.626485355267178, 46.92357305783375]]\n"
     ]
    }
   ],
   "source": [
    "crs_name = data[\"tileGeometry\"][\"crs\"][\"properties\"][\"name\"].split(':')[-3]\n",
    "crs_number = data[\"tileGeometry\"][\"crs\"][\"properties\"][\"name\"].split(':')[-1]\n",
    "\n",
    "print(data[\"tileGeometry\"][\"crs\"][\"properties\"][\"name\"])\n",
    "print(f'CRS Name: {crs_name}')\n",
    "print(f'CRS Number: {crs_number}')\n",
    "\n",
    "coordinates = data[\"tileGeometry\"][\"coordinates\"][0]\n",
    "print(f'Coordinates ({crs_name}:{crs_number}): {coordinates}')\n",
    "\n",
    "transformer = Transformer.from_crs(f'{crs_name}:{crs_number}', \"epsg:4326\")\n",
    "coordinates = [list(transformer.transform(point[0], point[1])) for point in coordinates]\n",
    "coordinates = [[point[1], point[0]] for point in coordinates]\n",
    "print(f'Coordinates  (EPSG:4326): {coordinates}')"
   ]
  },
  {
   "cell_type": "code",
   "execution_count": 8,
   "id": "a201a3e9-3e6b-4b7e-8671-0847cb56e1e5",
   "metadata": {},
   "outputs": [],
   "source": [
    "search_bbox = BBox(bbox=[(6.0658, 46.1694), (6.2347, 46.2328)], crs=CRS.WGS84)\n",
    "tile_catalog = Polygon([\n",
    " [5.626498040289656, 46.92356376784977],\n",
    " [5.579472762565917, 45.93643957329024],\n",
    " [6.992990020033113, 45.89574467885507],\n",
    " [7.065643441305988, 46.88145114926512],\n",
    " [5.626498040289656, 46.92356376784977]])\n",
    "\n",
    "tile_metadata = Polygon(coordinates)"
   ]
  },
  {
   "cell_type": "code",
   "execution_count": 9,
   "id": "a7bbbc87-4105-4dc5-a131-521d57056d22",
   "metadata": {},
   "outputs": [],
   "source": [
    "def outer_rectangle(polygon):\n",
    "    x, y = polygon.exterior.coords.xy\n",
    "    # sort coords and remove duplicate\n",
    "    x = sorted(x[:-1])\n",
    "    y = sorted(y[:-1])    \n",
    "    \n",
    "    min_x, max_x = x[0], x[3]\n",
    "    min_y, max_y = y[0], y[3]\n",
    "    \n",
    "    polygon = ((min_x, min_y),\n",
    "               (min_x, max_y),\n",
    "               (max_x, max_y),\n",
    "               (max_x, min_y))\n",
    "    \n",
    "    return Polygon(polygon)\n",
    "    \n",
    "def inner_rectangle(polygon):\n",
    "    x, y = polygon.exterior.coords.xy\n",
    "    # sort coords and remove duplicate\n",
    "    x = sorted(x[:-1])\n",
    "    y = sorted(y[:-1])    \n",
    "    \n",
    "    min_x, max_x = x[1], x[2]\n",
    "    min_y, max_y = y[1], y[2]\n",
    "    \n",
    "    polygon = ((min_x, min_y),\n",
    "               (min_x, max_y),\n",
    "               (max_x, max_y),\n",
    "               (max_x, min_y))\n",
    "    \n",
    "    return Polygon(polygon)"
   ]
  },
  {
   "cell_type": "code",
   "execution_count": 18,
   "id": "7b2c0051-3989-4e31-990e-2b6e81211ab5",
   "metadata": {},
   "outputs": [
    {
     "data": {
      "image/png": "[encoded data removed]",
      "text/plain": [
       "<Figure size 432x288 with 1 Axes>"
      ]
     },
     "metadata": {
      "needs_background": "light"
     },
     "output_type": "display_data"
    }
   ],
   "source": [
    "show_bbox(search_bbox)\n",
    "show_polygon(tile_catalog)\n",
    "show_polygon(tile_metadata)"
   ]
  },
  {
   "cell_type": "code",
   "execution_count": 22,
   "id": "38be6559-1ca9-4e25-b722-7a4a8f818deb",
   "metadata": {},
   "outputs": [
    {
     "data": {
      "image/png": "[encoded data removed]",
      "text/plain": [
       "<Figure size 432x288 with 1 Axes>"
      ]
     },
     "metadata": {
      "needs_background": "light"
     },
     "output_type": "display_data"
    }
   ],
   "source": [
    "show_bbox(search_bbox)\n",
    "show_polygon(tile_catalog)\n",
    "show_polygon(tile_metadata)\n",
    "\n",
    "inner = inner_rectangle(tile_metadata)\n",
    "show_polygon(inner)\n",
    "partition = BBox(inner, crs='epsg:4326').get_partition(num_x=10, num_y=10)\n",
    "show_partition(partition)"
   ]
  },
  {
   "cell_type": "code",
   "execution_count": 10,
   "id": "ba57d463-df9f-46fa-9c5a-7a873f6f7913",
   "metadata": {},
   "outputs": [
    {
     "data": {
      "image/png": "[encoded data removed]",
      "text/plain": [
       "<Figure size 432x288 with 1 Axes>"
      ]
     },
     "metadata": {
      "needs_background": "light"
     },
     "output_type": "display_data"
    }
   ],
   "source": [
    "distorted = Polygon([\n",
    " [5.5, 45],\n",
    " [5, 46.5],\n",
    " [6, 47],\n",
    " [6.5, 45.5]])\n",
    "show_polygon(distorted)\n",
    "\n",
    "inner = inner_rectangle(distorted)\n",
    "show_polygon(inner)\n",
    "\n",
    "outer = outer_rectangle(distorted)\n",
    "show_polygon(outer)"
   ]
  }
 ],
 "metadata": {
  "kernelspec": {
   "display_name": "Python 3",
   "language": "python",
   "name": "python3"
  },
  "language_info": {
   "codemirror_mode": {
    "name": "ipython",
    "version": 3
   },
   "file_extension": ".py",
   "mimetype": "text/x-python",
   "name": "python",
   "nbconvert_exporter": "python",
   "pygments_lexer": "ipython3",
   "version": "3.8.5"
  },
  "toc-showcode": true,
  "toc-showmarkdowntxt": false,
  "toc-showtags": false
 },
 "nbformat": 4,
 "nbformat_minor": 5
}
