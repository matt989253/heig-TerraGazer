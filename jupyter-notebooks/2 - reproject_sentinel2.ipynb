{
 "cells": [
  {
   "cell_type": "markdown",
   "id": "0cd3ac00-dc8b-4c67-b730-b9952358f40c",
   "metadata": {},
   "source": [
    "# Reproject Sentinel-2 data to WGS84"
   ]
  },
  {
   "cell_type": "code",
   "execution_count": 1,
   "id": "e5b88e5d-5d26-4e71-acba-21970cf36462",
   "metadata": {},
   "outputs": [],
   "source": [
    "import rasterio\n",
    "from rasterio.merge import merge\n",
    "from rasterio.plot import show\n",
    "from rasterio.warp import calculate_default_transform, reproject, Resampling\n",
    "import glob\n",
    "import os"
   ]
  },
  {
   "cell_type": "code",
   "execution_count": 2,
   "id": "32f2b250-90e4-45df-a393-9924924b2ff7",
   "metadata": {},
   "outputs": [],
   "source": [
    "def reproject_raster(in_path, out_path, dst_crs = 'EPSG:4326'):\n",
    "    # reproject raster to project crs\n",
    "    with rasterio.open(in_path) as src:\n",
    "        src_crs = src.crs\n",
    "        transform, width, height = calculate_default_transform(src_crs, dst_crs, src.width, src.height, *src.bounds)\n",
    "        kwargs = src.meta.copy()\n",
    "\n",
    "        kwargs.update({\n",
    "            'crs': dst_crs,\n",
    "            'transform': transform,\n",
    "            'width': width,\n",
    "            'height': height})\n",
    "\n",
    "        with rasterio.open(out_path, 'w', **kwargs) as dst:\n",
    "            for i in range(1, src.count + 1):\n",
    "                reproject(\n",
    "                    source=rasterio.band(src, i),\n",
    "                    destination=rasterio.band(dst, i),\n",
    "                    src_transform=src.transform,\n",
    "                    src_crs=src.crs,\n",
    "                    dst_transform=transform,\n",
    "                    dst_crs=dst_crs,\n",
    "                    resampling=Resampling.nearest)\n",
    "    return(out_path)"
   ]
  },
  {
   "cell_type": "code",
   "execution_count": 3,
   "id": "cfd743f9-ee68-4c20-a40b-db59c2c53499",
   "metadata": {},
   "outputs": [
    {
     "name": "stdout",
     "output_type": "stream",
     "text": [
      "data\\sentinel2\\*\\R10m\\TCI.jp2\n"
     ]
    }
   ],
   "source": [
    "# File and folder paths\n",
    "dirpath = r\"data\\sentinel2\"\n",
    "search_criteria = \"*\\R10m\\TCI.jp2\"\n",
    "q = os.path.join(dirpath, search_criteria)\n",
    "print(q)"
   ]
  },
  {
   "cell_type": "code",
   "execution_count": 4,
   "id": "04e3aa7b-fa14-41c2-9082-6bda45cbe605",
   "metadata": {},
   "outputs": [
    {
     "data": {
      "text/plain": [
       "['data\\\\sentinel2\\\\31PFP,2021-06-14,0\\\\R10m\\\\TCI.jp2',\n",
       " 'data\\\\sentinel2\\\\31PFQ,2021-06-14,0\\\\R10m\\\\TCI.jp2',\n",
       " 'data\\\\sentinel2\\\\31PFR,2021-06-14,0\\\\R10m\\\\TCI.jp2',\n",
       " 'data\\\\sentinel2\\\\31PGP,2021-06-14,0\\\\R10m\\\\TCI.jp2',\n",
       " 'data\\\\sentinel2\\\\31PGQ,2021-06-14,0\\\\R10m\\\\TCI.jp2',\n",
       " 'data\\\\sentinel2\\\\31PGR,2021-06-14,0\\\\R10m\\\\TCI.jp2',\n",
       " 'data\\\\sentinel2\\\\31PHP,2021-06-14,0\\\\R10m\\\\TCI.jp2',\n",
       " 'data\\\\sentinel2\\\\31PHQ,2021-06-14,0\\\\R10m\\\\TCI.jp2',\n",
       " 'data\\\\sentinel2\\\\31PHR,2021-06-14,0\\\\R10m\\\\TCI.jp2',\n",
       " 'data\\\\sentinel2\\\\31TGM,2021-02-23,0\\\\R10m\\\\TCI.jp2']"
      ]
     },
     "execution_count": 4,
     "metadata": {},
     "output_type": "execute_result"
    }
   ],
   "source": [
    "paths = glob.glob(q)\n",
    "paths"
   ]
  },
  {
   "cell_type": "code",
   "execution_count": 5,
   "id": "5799d90f-17da-4d2e-a455-0fd8f4103c4e",
   "metadata": {},
   "outputs": [],
   "source": [
    "files_to_mosaic = []"
   ]
  },
  {
   "cell_type": "code",
   "execution_count": 6,
   "id": "7fd59a80-80a5-47c6-b3bf-9f1e2b1e3f65",
   "metadata": {},
   "outputs": [],
   "source": [
    "for path_in in paths:\n",
    "    folders_split = path_in.split('\\\\')\n",
    "    filename_split = folders_split[-1].split('.')\n",
    "    filename_split[0] = 'transformed_tci'\n",
    "    \n",
    "    filename_out = '.'.join(filename_split)\n",
    "    folders_split[-1] = filename_out\n",
    "    path_out = '\\\\'.join(folders_split)\n",
    "    \n",
    "    reproject_raster(path_in, path_out)"
   ]
  },
  {
   "cell_type": "code",
   "execution_count": null,
   "id": "af9f0c6c-0bd5-4d77-84c9-7fabe24aeee8",
   "metadata": {},
   "outputs": [],
   "source": []
  }
 ],
 "metadata": {
  "kernelspec": {
   "display_name": "Python 3",
   "language": "python",
   "name": "python3"
  },
  "language_info": {
   "codemirror_mode": {
    "name": "ipython",
    "version": 3
   },
   "file_extension": ".py",
   "mimetype": "text/x-python",
   "name": "python",
   "nbconvert_exporter": "python",
   "pygments_lexer": "ipython3",
   "version": "3.8.5"
  },
  "toc-showcode": true,
  "toc-showmarkdowntxt": false,
  "toc-showtags": false
 },
 "nbformat": 4,
 "nbformat_minor": 5
}
